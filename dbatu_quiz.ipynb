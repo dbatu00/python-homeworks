{
  "nbformat": 4,
  "nbformat_minor": 0,
  "metadata": {
    "colab": {
      "name": "dbatu_quiz.ipynb",
      "provenance": [],
      "collapsed_sections": [],
      "toc_visible": true
    },
    "kernelspec": {
      "name": "python3",
      "display_name": "Python 3"
    }
  },
  "cells": [
    {
      "cell_type": "markdown",
      "metadata": {
        "id": "h4gqM6O7-y1r"
      },
      "source": [
        "# CS210 Spring 2020 Project II\n",
        "\n",
        "Student Name: [Enter Your Name]  \n",
        "\n",
        "ID: [SU-ID]\n",
        "\n",
        "Deadline: May 18, 10 a.m.\n",
        "\n",
        "**Submission Instructions**\n",
        "\n",
        "---\n",
        "Copy this assignment to your Drive. <font color = 'red'> `File` --> `Save a copy in Drive`</font>. Rename it as <font color = 'green'>`Lastname_Firstname_project2`</font>.\n",
        "\n",
        "Write your solutions in the cells  marked <font color = 'green'>`# your code`</font>.\n",
        "\n",
        "When you're done please submit your solutions as an <font color=\"red\">`.ipynb`</font> file. To do so:\n",
        "\n",
        "\n",
        "1.  Click on <font color=\"red\">`File`</font>  at the top left on the Colab screen, then click on <font color = 'red'>`Download .ipynb`</font>.\n",
        "2.   Then submit the <font color=\"red\">`.ipynb`</font> version of your work on SUCourse.\n",
        "\n",
        "---\n",
        "\n",
        "**In this project, you are not allowed to ask for help from the TAs.**"
      ]
    },
    {
      "cell_type": "markdown",
      "metadata": {
        "id": "b8UCIGX8Wrnv"
      },
      "source": [
        "Honor Pledge\n",
        "\n",
        "Mark the statement below.\n",
        "\n",
        "- [x] *I affirm that I have not given or received any unauthorized help on this assignment, and that this work is my own.*"
      ]
    },
    {
      "cell_type": "markdown",
      "metadata": {
        "id": "rXoznww_UR7r"
      },
      "source": [
        "|Question|Grade|\n",
        "|:---:|:---:|\n",
        "|1|10|\n",
        "|2|10|\n",
        "|3|15|\n",
        "|4|15|\n",
        "|5|10|\n",
        "|6|20|\n",
        "|7|20|\n",
        "|Total|100|"
      ]
    },
    {
      "cell_type": "code",
      "metadata": {
        "id": "ULsajiE6V5C9"
      },
      "source": [
        "from google.colab import drive\n",
        "drive.mount(\"/content/drive\")\n",
        "\n",
        "path_prefix = \"/content/drive/My Drive\""
      ],
      "execution_count": null,
      "outputs": []
    },
    {
      "cell_type": "code",
      "metadata": {
        "id": "X3Xy7XzMWCjO"
      },
      "source": [
        "import pandas as pd\n",
        "import numpy as np\n",
        "import matplotlib.pyplot as plt\n",
        "\n",
        "%matplotlib inline"
      ],
      "execution_count": null,
      "outputs": []
    },
    {
      "cell_type": "markdown",
      "metadata": {
        "id": "mawA5qaW--6V"
      },
      "source": [
        "## Q1: True/False Statements\n",
        "\n",
        "Mark your choice with **bold** font."
      ]
    },
    {
      "cell_type": "markdown",
      "metadata": {
        "id": "GPtjCLER_NVe"
      },
      "source": [
        "- True/**False** $\\Rightarrow$ Latitude/Longitude is of ratio data type.\n",
        "\n",
        "- **True**/False $\\Rightarrow$ Median is always a  value from the original observations in the data.\n",
        "\n",
        "- True/**False** $\\Rightarrow$ Mean is more robust to outliers compared to median.\n",
        "\n",
        "- True/**False** $\\Rightarrow$ P-value is the probability of null hypothesis being true.\n",
        "\n",
        "- True/**False** $\\Rightarrow$ If our verdict is to reject the null hypothesis, then we are certain that the\n",
        "null hypothesis is false."
      ]
    },
    {
      "cell_type": "code",
      "metadata": {
        "id": "rY3Hk5CNk7An"
      },
      "source": [
        ""
      ],
      "execution_count": null,
      "outputs": []
    },
    {
      "cell_type": "markdown",
      "metadata": {
        "id": "fLYB6zalGRmD"
      },
      "source": [
        "## Q2: Multi-Choice Questions\n",
        "\n",
        "Mark your answer with **bold** font."
      ]
    },
    {
      "cell_type": "markdown",
      "metadata": {
        "id": "lvI_E5dbHfgv"
      },
      "source": [
        "1- We want to assess the effect of a short period English course for a group of newcomer students. We put students to an English exam before and after the course. We want to determine if the course helped the students to increase their scores. Which of the following test type is more appropriate?\n",
        "\n",
        "- a) a paired two-tailed test\n",
        "\n",
        "- b) a two independent sample, one-tailed test\n",
        "\n",
        "- **c) a paired one-tailed test**"
      ]
    },
    {
      "cell_type": "markdown",
      "metadata": {
        "id": "583lUoA5GgHu"
      },
      "source": [
        "2- Which of the following statements is a classification problem?\n",
        "\n",
        "- a) Determining a person's income based on their age and type of job.\n",
        "\n",
        "- **b) Predicting whether a credit card transaction is fraudulent.**\n",
        "\n",
        "- c) Identifying shopping patterns between customers of a supermarket."
      ]
    },
    {
      "cell_type": "markdown",
      "metadata": {
        "id": "5oUxVaqJHAeY"
      },
      "source": [
        "3- If you have a regression model, which metric below is not an appropriate evaluation metric?\n",
        "\n",
        "- a) MSE\n",
        "\n",
        "- **b) Accuracy Score**\n",
        "\n",
        "- c) MAE"
      ]
    },
    {
      "cell_type": "markdown",
      "metadata": {
        "id": "qKBz44tNLIQd"
      },
      "source": [
        "4- Given a training dataset with 100 observations, we built a kNN model with k set to 100. In the training data, 30% of the observations are of class A, 10% are of class B and the remaining 60% are of class C.\n",
        "\n",
        "Now, we have a test dataset in which 5% are of class A, 55% are of class B and remaining 40% are of class C. If we deploy the trained model to predict the test dataset, what would be the resulting accuracy score?\n",
        "\n",
        "- a) 50%\n",
        "\n",
        "- b) 40%\n",
        "\n",
        "- **c) 55%**"
      ]
    },
    {
      "cell_type": "markdown",
      "metadata": {
        "id": "3lg7oWJWLQTs"
      },
      "source": [
        "5- Which algorithm below would take the least amount of training time for a moderately large dataset?\n",
        "\n",
        "- a) kNN\n",
        " \n",
        "- **b) Decision Tree**\n",
        "\n",
        "- c) Naive Bayes"
      ]
    },
    {
      "cell_type": "markdown",
      "metadata": {
        "id": "9qwxl_TYMW2j"
      },
      "source": [
        "## Q3: Hypothesis Testing\n",
        "\n",
        "During World War II, the researchers at the Center for Naval Analysis encountered a vital problem. Bombers were getting shot down. The researchers knew they needed data to anaylze the problem. After each mission, the bullet holes and damage from each bomber were reviewed and recorded. The objective was to detect the vulnerable regions on a bomber. The results showed that there was a pattern. Most of the damage were received by the wings and the body.\n",
        "\n",
        "![](https://upload.wikimedia.org/wikipedia/commons/thumb/9/98/Survivorship-bias.png/440px-Survivorship-bias.png)\n",
        "\n",
        "With the obtained result, the researchers decided to increase the armor on the plane's wings and body so that a decrease in the number of bombers being shot down is decreased.\n"
      ]
    },
    {
      "cell_type": "markdown",
      "metadata": {
        "id": "oyiuSpjHT7pE"
      },
      "source": [
        "#### Hypothesis Setting\n",
        "\n",
        "In order to statistically show this pattern, what type of test would you apply? Write down the null and alternative hypothesis. Indicate the test type."
      ]
    },
    {
      "cell_type": "markdown",
      "metadata": {
        "id": "GThsIN5-UzR5"
      },
      "source": [
        "<font color=\"blue\">I would use an ANOVA test since different parts of the plane will be compared. \n",
        "The null hypothesis: All parts of the plane took equal damage.\n",
        "the alternative hypothesis: There is at least one part of the plane that took more or less damage than any other part. </font>"
      ]
    },
    {
      "cell_type": "markdown",
      "metadata": {
        "id": "h-06xNhQVELc"
      },
      "source": [
        "#### Experimental Setup\n",
        "\n",
        "Recall that the objective of the study is to understand which parts of a bomber cause it to being shot down. \n",
        "\n",
        "Is there a fault, flaw in the experimental setup in terms of the objective?"
      ]
    },
    {
      "cell_type": "markdown",
      "metadata": {
        "id": "RHWpO5_CkWWS"
      },
      "source": [
        "<font color=\"blue\">The bombers that are shot down could not complete the missions which means they took vital damage. In this example where returned bombers are used, non-vital damages are recorded since these bombers could turn back. This means that armor increase will only be made in non-vital parts of the plane while the vital parts that cause the planes to fall will not be detected. For example, there is a chance that all bombers that took damage in their turbines fell down but it is not recorded since they did not turn back.</font>"
      ]
    },
    {
      "cell_type": "markdown",
      "metadata": {
        "id": "yxK4MvYCiXXE"
      },
      "source": [
        "## Q4: Data Splitting\n",
        "\n",
        "In a research study, scientists claimed that a genetic signature for autism is found. It can be used as a mechanism to assess autism risk at birth or in infancy with 72% accuracy. In this task, scientists utilized gene expressions to assess the risk. Below, you may find the experimental setup deployed by the research team.\n",
        "\n",
        "- In the feature selection process, the research team used the whole available data and found the subset of gene expressions  to be used as the features in the model.\n",
        "\n",
        "- Then, the researchers splitted the data into training and validation sets to evalute the model performance.\n",
        "\n",
        "However, when another research team replicated their study, the accuracy value was much lower than the claimed value.\n",
        "\n",
        "What could be reason behind this difference? Is there anything wrong in the experimental setup of the original research team? How would you fix that problem?"
      ]
    },
    {
      "cell_type": "markdown",
      "metadata": {
        "id": "i3DtnvTeqMR-"
      },
      "source": [
        "<font color=\"blue\">The variance of gene expressions are possibly not taken into consideration when initial subset was being found. This can cause different results with each different gene subset. Using stratifided random sampling would reduce the risk of choosing a biased sample. Also, a test set is not used. Using a test set that spans various gene expressions should be used for making sure that the results are not biased. And test set should be used after model training is finished to not effect the initial results.</font>"
      ]
    },
    {
      "cell_type": "markdown",
      "metadata": {
        "id": "Jj9A_-GbWJAH"
      },
      "source": [
        "## Q5: Naive Bayes\n",
        "\n",
        "Suppose that we have the data below, where `Stolen` is the  target attribute that consists of binary values (yes or no).\n",
        "\n",
        "|Color|Type|Origin|Stolen|\n",
        "|:---:|:---:|:---:|:---:|\n",
        "|red|sports|domestic|yes|\n",
        "|red|sports|domestic|no|\n",
        "|red|sports|domestic|yes|\n",
        "|yellow|sports|domestic|no|\n",
        "|yellow|sports|imported|yes|\n",
        "|yellow|suv|imported|no|\n",
        "|yellow|suv|imported|yes|\n",
        "|yellow|suv|domestic|no|\n",
        "|red|suv|imported|no|\n",
        "|red|sports|imported|yes|\n",
        "\n",
        "You have a naive bayes model and a new test instance with attributes `color=red`, `type=suv` and `origin=imported`. What would be the predicted label by the naive bayes model for the given test instance? *Write down your calculations step by step.*\n",
        "\n",
        "There is no need to use latex in this question. You may show your calculations as P(stolen=yes|color=red....) = (...)/(...) etc."
      ]
    },
    {
      "cell_type": "markdown",
      "metadata": {
        "id": "Y5u7toLcMUOh"
      },
      "source": [
        "P(stolen = yes) = 5/10,          \n",
        "P(color = red| stolen=yes) = 5/10,\n",
        "P(type = suv| stolen = yes) = 4/10,\n",
        "P(origin = imported | stolen = yes) = 5/10, \n",
        "P(color=red,type=suv,origin=imported| stolen = yes) = 0.5 * 0.5 * 0.4, \n",
        "P(stolen=yes| color=red,type=suv,origin=imported) = P(color=red,type=suv,origin=imported| stolen = yes) * P(stolen = yes) = 0.5 * 0.5 * 0.5 * 0.4,\n",
        "P(stolen = no) = 5/10,\n",
        "P(color = red| stolen=no) = 5/10,\n",
        "P(type = suv| stolen = no) = 6/10,\n",
        "P(origin = imported| stolen= no) = 5/10,\n",
        "P(color=red,type=suv,origin=imported| stolen = no) = 0.5 * 0.5 * 0.6,\n",
        "P(stolen=no| color=red,type=suv,origin=imported) = P(color=red,type=suv,origin=imported| stolen = yes) * P(stolen = no) = 0.5 * 0.5 * 0.5 * 0.6,\n",
        "\n",
        "0.5 * 0.5 * 0.5 * 0.6 > 0.5 * 0.5 * 0.5 * 0.4 so the predicted label would be 'no'\n",
        "\n"
      ]
    },
    {
      "cell_type": "markdown",
      "metadata": {
        "id": "Ew_F44tB81nV"
      },
      "source": [
        "## Q6: Stratified Cross Validation\n",
        "\n",
        "In recent weeks we have covered k-fold Cross Validation. We discussed that the **training set** is split into k folds and for each fold we train our model with other $k-1$ folds and validate it on the current fold. So, we can consider this approach as the visual given below.\n",
        "\n",
        "<img src = \"https://i.stack.imgur.com/R27go.png\" width=\"500px\">\n",
        "\n",
        "**Stratified Cross Validation** is different from this process in terms of its aim to ensure that each fold ist an appropriate representative of class distributions of the original dataset. This means that folds are made by preserving the percentage of samples for each class. Then, we can consider this approach as below.\n",
        "\n",
        "<img src = \"https://i.stack.imgur.com/B9CCp.png\" width=\"600px\">\n",
        "\n",
        "In this question, for Stratified Cross Validation, you can use the implementation from `sklearn.model_selection.StratifiedKFold`. Dataset for the question and necessary modules are already given for you to work on."
      ]
    },
    {
      "cell_type": "code",
      "metadata": {
        "id": "iJzMhvnR84IZ"
      },
      "source": [
        "from os.path import join\n",
        "\n",
        "filename = \"titanic.csv\"\n",
        "data = pd.read_csv(join(path_prefix, filename))\n",
        "data['Sex'] = data['Sex'].map({'male': 0, 'female': 1})\n",
        "data.drop('Name', axis = 1, inplace = True)"
      ],
      "execution_count": null,
      "outputs": []
    },
    {
      "cell_type": "code",
      "metadata": {
        "id": "rznjDXaVqZzF"
      },
      "source": [
        "data.head()"
      ],
      "execution_count": null,
      "outputs": []
    },
    {
      "cell_type": "code",
      "metadata": {
        "id": "qVrXpsouqdFw"
      },
      "source": [
        "from sklearn.model_selection import train_test_split\n",
        "\n",
        "features = data.drop('Survived', axis=1)\n",
        "labels = data['Survived']  \n",
        "\n",
        "x_train, x_test, y_train, y_test = train_test_split(features, labels, random_state=0, test_size=0.20)"
      ],
      "execution_count": null,
      "outputs": []
    },
    {
      "cell_type": "markdown",
      "metadata": {
        "id": "aKkQHG9904tC"
      },
      "source": [
        "In this part you are expected to compare performances of `KFold Cross Validation` and `Stratified Cross Validation` on the training set. However, there will be a slight modification in terms of coding this part. You need to initialize cross validation objects of these Cross Validation options and pass this as the parameter of `cv` in the `cross_val_score` function.\n",
        "\n",
        "The way you utilize the given methods above should be similar to this;\n",
        "\n",
        "`cross_val_score(model, X, y, cv='istead of passing a number, pass CV object')`\n",
        "\n",
        "Then, discuss your findings. Are the results suggesting that the usage of Stratified version is a better decision?\n",
        "\n",
        "Some clarifications regarding this part;\n",
        "    \n",
        "    - You do not need to do any modifications to datasets.\n",
        "    - A decision tree model is already initialized for you to use.\n",
        "    - Please do not introduce any parameter/option that would shuffle the data.\n",
        "    - Use either 5 or 10 fold cross validations.\n",
        "    - You can refer to the documentation pages with the links below.\n",
        "\n",
        "K-Fold CV documentation page: [Link](https://scikit-learn.org/stable/modules/generated/sklearn.model_selection.KFold.html#sklearn.model_selection.KFold)\n",
        "\n",
        "Stratified CV documentdation page: [Link](https://scikit-learn.org/stable/modules/generated/sklearn.model_selection.StratifiedKFold.html)"
      ]
    },
    {
      "cell_type": "code",
      "metadata": {
        "id": "DSTh9q4w1Ee4"
      },
      "source": [
        "from sklearn.model_selection import cross_val_score\n",
        "from sklearn.model_selection import KFold, StratifiedKFold\n",
        "from sklearn.tree import DecisionTreeClassifier\n",
        "\n",
        "model = DecisionTreeClassifier()"
      ],
      "execution_count": null,
      "outputs": []
    },
    {
      "cell_type": "code",
      "metadata": {
        "id": "eqNmWNNG1GsY"
      },
      "source": [
        "# your code"
      ],
      "execution_count": null,
      "outputs": []
    },
    {
      "cell_type": "markdown",
      "metadata": {
        "id": "jfZZvGbK1IDs"
      },
      "source": [
        "<font color=\"blue\">[Double Click to Insert Your Comments]</font>"
      ]
    },
    {
      "cell_type": "markdown",
      "metadata": {
        "id": "SoqVByvMstvT"
      },
      "source": [
        "## Q7: Classification Boundaries\n",
        "\n",
        "In this task, you will analyze how different hyperparameter settings affect the classification boundaries for decision trees. \n",
        "\n",
        "Below, you may find the function from the previous take-home exam to display the classification boundaries. However, the function is slightly changed. In addition to the previous parameters, it expects two more:\n",
        "\n",
        "- `model` -> a model you generated\n",
        "- `data` -> the feature set to train the `model`\n",
        "- `labels` -> corresponding label values \n",
        "- `ax` -> an axes object to plot the classification boundaries of the given model\n",
        "- `title` -> the title of the given `ax` object\n",
        "\n",
        "The function still trains the model, but you should also provide the data to be trained on. \n",
        "\n",
        "---\n",
        "\n",
        "1. Split the original data into two folds, namely *train* and *test*, in which 20% is reserved for the test data.\n",
        "\n",
        "  - In this question, the data is being generated randomly. Each time you call the `make_classification` function below, a new set of `features` and `labels` will be generated.\n",
        "\n",
        "2. Generate three different decision tree models. \n",
        "\n",
        "  - The first one should be generated with hyperparameter **`min_samples_leaf` set to 1**. `min_samples_leaf` is the minimum number of samples required to be at a leaf node. \n",
        "\n",
        "  - The second decision tree model should be initialized with **`min_samples_leaf` set to 5** and **`max_depth` set to 4**. `max_depth` hyperparameter controls the maximum depth of the tree.\n",
        "\n",
        "  - The third decision tree model should be initialized with **`min_samples_leaf` set to 20** and **`max_depth` set to 4**. `max_depth` hyperparameter controls the maximum depth of the tree.\n",
        "\n",
        "3. Display the resulting classification boundaries in a **1x3 layout**. Utilize the axes titles to highlight the models.\n",
        "\n",
        "  - Here, you should **put the train data as a parameter to the `visualize_model` function**, i.e. the function call should be visualize_model(model, x_train, y_train, ax, title).\n",
        "\n",
        "\n",
        "Once you generate the boundaries, comment on the results. Disscuss the model performances with respect to generalizability, i.e. which model would perform better with unseen test data."
      ]
    },
    {
      "cell_type": "code",
      "metadata": {
        "id": "FGTK6RIKs4Jg"
      },
      "source": [
        "from matplotlib.colors import ListedColormap\n",
        "from ipywidgets import interact\n",
        "\n",
        "def visualize_model(model, data, labels, ax, title):\n",
        "  step = 0.05\n",
        "\n",
        "  cmap_light = ListedColormap(['orange', 'cyan', 'cornflowerblue'])\n",
        "  cmap_bold = ListedColormap(['darkorange', 'c', 'darkblue'])\n",
        "\n",
        "  model.fit(data, labels)\n",
        "\n",
        "  x_min = data[:, 0].min() - 1\n",
        "  x_max = data[:, 0].max() + 1\n",
        "  y_min = data[:, 1].min() - 1\n",
        "  y_max = data[:, 1].max() + 1\n",
        "\n",
        "  xx, yy = np.meshgrid(np.arange(x_min, x_max, step), np.arange(y_min, y_max, step))\n",
        "  y_pred = model.predict(np.hstack([xx.reshape(-1,1), yy.reshape(-1,1)])).reshape(xx.shape)\n",
        "\n",
        "  ax.pcolormesh(xx, yy, y_pred, cmap=cmap_light)\n",
        "  ax.scatter(data[:, 0], data[:, 1], c=labels, cmap=cmap_bold, edgecolor='k', s=20)\n",
        "  ax.set_xlim(xx.min(), xx.max())\n",
        "  ax.set_ylim(yy.min(), yy.max())\n",
        "  ax.set_title(title)"
      ],
      "execution_count": null,
      "outputs": []
    },
    {
      "cell_type": "code",
      "metadata": {
        "id": "nNqiFgEcwyHn",
        "colab": {
          "base_uri": "https://localhost:8080/",
          "height": 265
        },
        "outputId": "7e66d250-17c3-4a10-df9e-a9d6c9398fb9"
      },
      "source": [
        "from sklearn.datasets import make_classification\n",
        "\n",
        "features, labels = make_classification(n_samples=100, \n",
        "                    n_classes=2,\n",
        "                    n_features=2, \n",
        "                    n_informative=2,\n",
        "                    class_sep=0.5,\n",
        "                    n_redundant=0)\n",
        "\n",
        "plt.scatter(features[:,0], features[:,1], c=labels)\n",
        "plt.grid()\n",
        "plt.show()"
      ],
      "execution_count": null,
      "outputs": [
        {
          "output_type": "display_data",
          "data": {
            "image/png": "[encoded data removed]",
            "text/plain": [
              "<Figure size 432x288 with 1 Axes>"
            ]
          },
          "metadata": {
            "tags": [],
            "needs_background": "light"
          }
        }
      ]
    },
    {
      "cell_type": "code",
      "metadata": {
        "id": "7_m-54sTxTzN"
      },
      "source": [
        "# your code"
      ],
      "execution_count": null,
      "outputs": []
    },
    {
      "cell_type": "markdown",
      "metadata": {
        "id": "GorXQfmsxU-E"
      },
      "source": [
        "<font color=\"blue\">[Double Click to Insert Your Comments]</font>"
      ]
    }
  ]
}