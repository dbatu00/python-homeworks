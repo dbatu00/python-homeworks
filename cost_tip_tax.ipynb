{
  "nbformat": 4,
  "nbformat_minor": 0,
  "metadata": {
    "colab": {
      "name": "cost tip tax.ipynb",
      "provenance": []
    },
    "kernelspec": {
      "name": "python3",
      "display_name": "Python 3"
    }
  },
  "cells": [
    {
      "cell_type": "code",
      "metadata": {
        "id": "D5xjv5DDEAD3",
        "colab": {
          "base_uri": "https://localhost:8080/",
          "height": 67
        },
        "outputId": "08fd9703-de20-44dc-8214-62d5ced2abce"
      },
      "source": [
        "cost= 68\n",
        "tax_rate=0.08\n",
        "tip_rate=0.1\n",
        "tax=cost*tax_rate\n",
        "tip=cost*tip_rate\n",
        "total_cost=cost+tip+tax\n",
        "print('The tax is', format(tax, '.2f'), 'TL')\n",
        "print('The tip is', format(tip, '.2f') ,'TL')\n",
        "print('The total cost is', format (total_cost, '.2f') ,'TL')\n",
        "\n"
      ],
      "execution_count": null,
      "outputs": [
        {
          "output_type": "stream",
          "text": [
            "The tax is 5.44 TL\n",
            "The tip is 6.80 TL\n",
            "The total cost is 80.24 TL\n"
          ],
          "name": "stdout"
        }
      ]
    }
  ]
}