{
  "nbformat": 4,
  "nbformat_minor": 0,
  "metadata": {
    "colab": {
      "name": "ifelse.ipynb",
      "provenance": [],
      "collapsed_sections": []
    },
    "kernelspec": {
      "name": "python3",
      "display_name": "Python 3"
    }
  },
  "cells": [
    {
      "cell_type": "code",
      "metadata": {
        "id": "31YeaPUZRx2k"
      },
      "source": [
        "print(\"Welcome to graduation estimator. Let us serve you!\")\n",
        "credits=int(input(\"Please enter the SU Credits for the student: \"))\n",
        "if 0<=credits<=200:\n",
        "  ects=int(input(\"Please enter the ECTS Credits for the student: \"))\n",
        "  if 0<=ects<=400:\n",
        "    sps=str(input(\"Please enter the SPS303 passing situation for the student: \"))\n",
        "    if sps==(\"Yes\"):\n",
        "      gpa=float(input(\"Please enter the GPA for the student: \"))\n",
        "      if 0<=gpa<=4:\n",
        "        if credits>=125:\n",
        "          if ects>=200:\n",
        "            if sps==(\"Yes\"):\n",
        "              if gpa>=2:\n",
        "                print(\"This student can graduate.\")\n",
        "              else:\n",
        "                print(\"This student cannot graduate.\")\n",
        "            else:\n",
        "              print(\"This student cannot graduate.\")\n",
        "          else:\n",
        "            print(\"This student cannot graduate.\")\n",
        "        else:\n",
        "          print(\"This student cannot graduate.\")\n",
        "      else:\n",
        "        print(\"Incorrect GPA!\")\n",
        "    else:\n",
        "      print(\"Incorrect SPS303 passing situation!\")\n",
        "  else:\n",
        "    print(\"Incorrect ECTS Credits!\")\n",
        "else: \n",
        "  print(\"Incorrect SU Credits!\")\n",
        "\n",
        "\n",
        "\n",
        "\n",
        "\n",
        "  \n",
        "  "
      ],
      "execution_count": null,
      "outputs": []
    }
  ]
}