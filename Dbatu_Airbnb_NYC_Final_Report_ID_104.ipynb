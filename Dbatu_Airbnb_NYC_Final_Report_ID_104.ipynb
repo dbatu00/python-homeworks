{
  "nbformat": 4,
  "nbformat_minor": 0,
  "metadata": {
    "colab": {
      "name": "Dbatu Airbnb NYC Final Report ID:104.ipynb",
      "provenance": [],
      "authorship_tag": "ABX9TyOvhQyF3Vu9jqbYfXmPIqV9",
      "include_colab_link": true
    },
    "kernelspec": {
      "name": "python3",
      "display_name": "Python 3"
    }
  },
  "cells": [
    {
      "cell_type": "markdown",
      "metadata": {
        "id": "view-in-github",
        "colab_type": "text"
      },
      "source": [
        "<a href=\"https://colab.research.google.com/github/dbatu00/python-homeworks/blob/main/Dbatu_Airbnb_NYC_Final_Report_ID_104.ipynb\" target=\"_parent\"><img src=\"https://colab.research.google.com/assets/colab-badge.svg\" alt=\"Open In Colab\"/></a>"
      ]
    },
    {
      "cell_type": "markdown",
      "metadata": {
        "id": "Y8-mB1rjCpuq"
      },
      "source": [
        "Deniz Batu 26386 Progress Report ID:104\n",
        "\n",
        "  This project aims to find the most favorable location for maximum profit in the account of the host, near date specific events which take place anually in the same location in New York City.\n",
        "\n",
        "  Memorial Day which takes place in Bay Ridge was chosen as the event. A comparison of near-event activity and annual activty was made for Bay Ridge and surrounding neighhbourhoods. \n",
        "  \n",
        "  The first dataset used is 'AB_NYC_2019.csv' which contains all New York City Airbnb listings with their various details. The details needed for this project are price, count and location of individual listings.\n",
        "  Bay Ridge and surrounding neighbourhoods(Sunset Park, Borough Park, Bersonhurt) are taken into consideration. From the dataset, total revenue, total listings and average price of each neighbourhood is calculated.\n",
        "  The second dataset used is 'SP BP BR BH 051820 060220 daily occ.csv' which is taken from https://analytics.alltherooms.com/. It consists of daily rate and occupancy rates of the given neighbourhoods one week before and one week after the chosen event as well as yearly rate and occupancy averages .From that dataset two plot graphs were made to observe the behaviour of the two parameters near event. \n",
        "\n",
        "  The observations are based around two parameters: Daily rate changes and occupancy rate changes. Daily rate changes represent the hosts' opinion of what the right price is which is related to the expected activity and occupancy rates represent Airbnb guest preferance. The highest priced neighbourhood, Bay Ridge, which is closest to the event has the smallest change in occupancy and daily rates. The lowest priced neighbourhood, Borough Park, has the highest increase in occupancy rates but daily rates change minimally. This indicates that people that use Airbnb to attend an event tend to choose the lower priced location even if its more far. Also, since the pricing of the Borough Park changes minimally near the event, it is arguable the hosts do not anticipate the increased activity near the event date.\n",
        "  Yearly popularity and total revenue of locations did not signify any relation to near event statistics. However, its arguable that yearly popularity of a location influences the preference of the customer less than prices.\n",
        "\n",
        "  In conclusion, it is observed that customers value lower prices over closer locations for the events they want to attend to and most hosts are unaware of this fact.\n",
        "\n",
        "  In the beginning of this project, aim was to find the optimal distance to an event for hosting an Airbnb for maximum profit. Arrival time and pricing were gonna be taken into consideration. However, available data about listing dates of Airbnb in NYC is very limited. In fact I had to use the only location specific event that has date data. I have contacted several Airbnb dataset contributors for accessing date information of all NYC Airbnb listings. If I can acquire the date data, I am planning to expand the project with more events to find numeral conclusions in the means of the optimal Airbnb ownership location. \n",
        "\n"
      ]
    },
    {
      "cell_type": "code",
      "metadata": {
        "id": "mJR3AMQb0IQu"
      },
      "source": [
        "import numpy as np\n",
        "import pandas as pd\n",
        "import matplotlib.pyplot as plt\n",
        "import matplotlib.image as mpimg\n",
        "%matplotlib inline\n",
        "import seaborn as sns\n",
        "\n",
        "\n",
        "NYC = pd.read_csv('AB_NYC_2019.csv') #getting data ready\n",
        "\n",
        "NYC.drop(['availability_365', 'minimum_nights','id','host_name','last_review','name', 'host_id', 'latitude','room_type', 'longitude', 'number_of_reviews', 'reviews_per_month'], axis=1, inplace=True)\n",
        "\n",
        "rates = pd.read_csv('SP BP BR BH 051820 060220 daily occ.csv') \n",
        "\n",
        "brooklyn = NYC.loc[NYC['neighbourhood_group'] == 'Brooklyn'] #getting neighbourhood list for brooklyn\n",
        "\n",
        "# I attampted to use a function for simplicity but it didnt work and i couldnt find why\n",
        "#def  ngbhr_data_func(nghbr):\n",
        "#  nghbr_frame = brooklyn.loc[brooklyn['neighbourhood'] == nghbr]\n",
        "\n",
        "#  nghbr_t_revenue = 0\n",
        "#  nghbr_t_listing = 0\n",
        "#  nghbr_avg_price = 0\n",
        "\n",
        "#  for index, row in nghbr_frame.iterrows():\n",
        "#   nghbr_t_revenue = nghbr_t_revenue + ((row['price']) * (row['calculated_host_listings_count']))\n",
        "#    nghbr_t_listing =  nghbr_t_listing + (row['calculated_host_listings_count'])\n",
        "\n",
        "#  nghbr_avg_price = nghbr_t_revenue/(nghbr_frame.calculated_host_listings_count.sum())  \n",
        "  \n",
        "#  return ngbhr_t_revenue, ngbhr_t_listing, ngbhr_avg_price\n",
        "\n",
        "\n",
        "#dykerheights   = ngbhr_data_func('Dyker Heights')\n",
        "#greenwood      = ngbhr_data_func('Greenwood Heights')\n",
        "#forthamilton   = ngbhr_data_func('Fort Hamilton')\n",
        "#nghbr = 'Sunset Park'\n",
        "#sunsetpark     = ngbhr_data_func('Sunset Park')\n",
        "#nghbr  ='Borough Park'\n",
        "#boroughpark    = ngbhr_data_func('Borough Park')\n",
        "#nghbr = 'Bensonhurst'\n",
        "#bensonhurst    = ngbhr_data_func('Bensonhurst')\n",
        "#nghbr  = 'Bay Ridge'\n",
        "#bayridge       = ngbhr_data_func('Bay Ridge')\n",
        "\n",
        "\n",
        "#print (ngbhr_data_func('Sunset Park'), ngbhr_data_func('Borough Park'))\n",
        "\n",
        "#bar_avg_price = [sunsetpark[2],boroughpark[2],bensonhurst[2],bayridge[2]]\n",
        "\n",
        "\n",
        "\n"
      ],
      "execution_count": null,
      "outputs": []
    },
    {
      "cell_type": "code",
      "metadata": {
        "id": "b5ydLfEr_SuM",
        "colab": {
          "base_uri": "https://localhost:8080/",
          "height": 166
        },
        "outputId": "b12d1e69-ddb1-4ef4-f015-601a1dc35167"
      },
      "source": [
        "rates"
      ],
      "execution_count": null,
      "outputs": [
        {
          "output_type": "execute_result",
          "data": {
            "text/html": [
              "<div>\n",
              "<style scoped>\n",
              "    .dataframe tbody tr th:only-of-type {\n",
              "        vertical-align: middle;\n",
              "    }\n",
              "\n",
              "    .dataframe tbody tr th {\n",
              "        vertical-align: top;\n",
              "    }\n",
              "\n",
              "    .dataframe thead th {\n",
              "        text-align: right;\n",
              "    }\n",
              "</style>\n",
              "<table border=\"1\" class=\"dataframe\">\n",
              "  <thead>\n",
              "    <tr style=\"text-align: right;\">\n",
              "      <th></th>\n",
              "      <th>Neighbourhood</th>\n",
              "      <th>Daily Rate Avg</th>\n",
              "      <th>Daily Rate High</th>\n",
              "      <th>Daily Rate Low</th>\n",
              "      <th>Occupation Rate Avg</th>\n",
              "      <th>Occupation Rate High</th>\n",
              "      <th>Occupation Rate Low</th>\n",
              "    </tr>\n",
              "  </thead>\n",
              "  <tbody>\n",
              "    <tr>\n",
              "      <th>0</th>\n",
              "      <td>Sunset Park</td>\n",
              "      <td>63</td>\n",
              "      <td>86</td>\n",
              "      <td>75</td>\n",
              "      <td>43</td>\n",
              "      <td>62</td>\n",
              "      <td>59</td>\n",
              "    </tr>\n",
              "    <tr>\n",
              "      <th>1</th>\n",
              "      <td>Borough Park</td>\n",
              "      <td>58</td>\n",
              "      <td>58</td>\n",
              "      <td>58</td>\n",
              "      <td>27</td>\n",
              "      <td>38</td>\n",
              "      <td>32</td>\n",
              "    </tr>\n",
              "    <tr>\n",
              "      <th>2</th>\n",
              "      <td>Bersonhurst</td>\n",
              "      <td>63</td>\n",
              "      <td>77</td>\n",
              "      <td>71</td>\n",
              "      <td>38</td>\n",
              "      <td>53</td>\n",
              "      <td>50</td>\n",
              "    </tr>\n",
              "    <tr>\n",
              "      <th>3</th>\n",
              "      <td>Bay Ridge</td>\n",
              "      <td>110</td>\n",
              "      <td>110</td>\n",
              "      <td>110</td>\n",
              "      <td>60</td>\n",
              "      <td>64</td>\n",
              "      <td>61</td>\n",
              "    </tr>\n",
              "  </tbody>\n",
              "</table>\n",
              "</div>"
            ],
            "text/plain": [
              "  Neighbourhood  Daily Rate Avg  ...   Occupation Rate High   Occupation Rate Low\n",
              "0   Sunset Park              63  ...                     62                    59\n",
              "1  Borough Park              58  ...                     38                    32\n",
              "2   Bersonhurst              63  ...                     53                    50\n",
              "3     Bay Ridge             110  ...                     64                    61\n",
              "\n",
              "[4 rows x 7 columns]"
            ]
          },
          "metadata": {
            "tags": []
          },
          "execution_count": 44
        }
      ]
    },
    {
      "cell_type": "code",
      "metadata": {
        "id": "aJcnxo5z_WJT",
        "colab": {
          "base_uri": "https://localhost:8080/",
          "height": 265
        },
        "outputId": "a55a1fa2-e06f-4d94-8bfd-0a2a9c2588ac"
      },
      "source": [
        "# I chose not to write code for this since it is a small dataframe\n",
        "sunsetdaily= [63 ,86,75]\n",
        "boroughdaily=[58,58,58]\n",
        "bersondaily =[63,77,71]\n",
        "baydaily = [110,110,110]\n",
        "avgs = ['yearly avg','highest','lowest']\n",
        "\n",
        "plt.plot(avgs, sunsetdaily, color='green')\n",
        "plt.plot(avgs, boroughdaily, color = 'red')\n",
        "plt.plot(avgs, bersondaily, color = 'blue')\n",
        "plt.plot(avgs, baydaily, color = 'brown')\n",
        "\n",
        "plt.show()\n",
        "\n",
        "\n",
        "\n",
        "\n",
        "#(y line is dollars.)\n"
      ],
      "execution_count": null,
      "outputs": [
        {
          "output_type": "display_data",
          "data": {
            "image/png": "[encoded data removed]",
            "text/plain": [
              "<Figure size 432x288 with 1 Axes>"
            ]
          },
          "metadata": {
            "tags": [],
            "needs_background": "light"
          }
        }
      ]
    },
    {
      "cell_type": "markdown",
      "metadata": {
        "id": "Ivgwvo8XGbPT"
      },
      "source": [
        "Daily rate changes(fee) in top and bottom popularity places are miniscule while the other two middle ground regions are affected greatly. Interpretation of this results is that host owners do not expect a change in the Airbnb activity near date times so they do not increase the prices. (y line is in dollars.)"
      ]
    },
    {
      "cell_type": "code",
      "metadata": {
        "id": "Qu6SNQhUBaoL",
        "colab": {
          "base_uri": "https://localhost:8080/",
          "height": 265
        },
        "outputId": "f50495bc-54aa-4a81-b75a-5b0032838494"
      },
      "source": [
        "sunsetocc = [43,62,59]\n",
        "boroughocc =[27,38,32]\n",
        "bersonocc = [38,53,50]\n",
        "bayocc = [60,64,61]\n",
        "\n",
        "\n",
        "plt.plot(avgs, sunsetocc, color='green')\n",
        "plt.plot(avgs, boroughocc, color = 'red')\n",
        "plt.plot(avgs, bersonocc, color = 'blue')\n",
        "plt.plot(avgs, bayocc, color = 'brown')\n",
        "\n",
        "plt.show()\n",
        "\n",
        "#(y line is %.)"
      ],
      "execution_count": null,
      "outputs": [
        {
          "output_type": "display_data",
          "data": {
            "image/png": "[encoded data removed]",
            "text/plain": [
              "<Figure size 432x288 with 1 Axes>"
            ]
          },
          "metadata": {
            "tags": [],
            "needs_background": "light"
          }
        }
      ]
    },
    {
      "cell_type": "markdown",
      "metadata": {
        "id": "ForT8SbNHIXo"
      },
      "source": [
        "Unlike the daily rates, occupancy increases greatly near the event as observable by the peaks. While daily rates are subject hosts' opinion, occupancy rates indicate customer activity. The increased activity in all regions show that there is increased demand for airbnb in the event's location and surrounding locations. It is observable that Bay Ridge(shown in brown line) has less increase in comparison to other regions which shows that people who are using AirBnbs to attend to events like to go for surrounding areas as well. "
      ]
    },
    {
      "cell_type": "code",
      "metadata": {
        "id": "wiKRt1Ye-HmE"
      },
      "source": [
        "# I ve tried to functionize this part but the values for all neighbourhoods were the same for a reason that I could not figure.\n",
        "\n",
        "bay_ridge = brooklyn.loc[brooklyn['neighbourhood'] == 'Bay Ridge']\n",
        "\n",
        "br_t_revenue = 0\n",
        "br_t_listing = 0\n",
        "br_avg_price = 0\n",
        "\n",
        "\n",
        "for index, row in bay_ridge.iterrows():\n",
        "     br_t_revenue = br_t_revenue + ((row['price']) * (row['calculated_host_listings_count']))\n",
        "     br_t_listing =  br_t_listing + (row['calculated_host_listings_count'])\n",
        "\n",
        "br_avg_price = br_t_revenue/(bay_ridge.calculated_host_listings_count.sum())"
      ],
      "execution_count": null,
      "outputs": []
    },
    {
      "cell_type": "code",
      "metadata": {
        "id": "d7oTX2wU-ply"
      },
      "source": [
        "borough_park = brooklyn.loc[brooklyn['neighbourhood'] == 'Borough Park']\n",
        "\n",
        "\n",
        "bp_t_revenue = 0\n",
        "bp_t_listing = 0\n",
        "bp_avg_price = 0\n",
        "\n",
        "\n",
        "for index, row in borough_park.iterrows():\n",
        "     bp_t_revenue = bp_t_revenue + ((row['price']) * (row['calculated_host_listings_count']))\n",
        "     bp_t_listing =  bp_t_listing + (row['calculated_host_listings_count'])\n",
        "\n",
        "bp_avg_price = bp_t_revenue/(borough_park.calculated_host_listings_count.sum())"
      ],
      "execution_count": null,
      "outputs": []
    },
    {
      "cell_type": "code",
      "metadata": {
        "id": "h7tm1P3E-xya"
      },
      "source": [
        "bensonhurst = brooklyn.loc[brooklyn['neighbourhood'] == 'Bensonhurst']\n",
        "\n",
        "\n",
        "bens_t_revenue = 0\n",
        "bens_t_listing = 0\n",
        "bens_avg_price = 0\n",
        "\n",
        "\n",
        "for index, row in bensonhurst.iterrows():\n",
        "     bens_t_revenue = bens_t_revenue + ((row['price']) * (row['calculated_host_listings_count']))\n",
        "     bens_t_listing =  bens_t_listing + (row['calculated_host_listings_count'])\n",
        "\n",
        "bens_avg_price = bens_t_revenue/(bensonhurst.calculated_host_listings_count.sum())"
      ],
      "execution_count": null,
      "outputs": []
    },
    {
      "cell_type": "code",
      "metadata": {
        "id": "3dHG22N5-POv"
      },
      "source": [
        "sunset_park = brooklyn.loc[brooklyn['neighbourhood'] == 'Sunset Park']\n",
        "\n",
        "\n",
        "sp_t_revenue = 0\n",
        "sp_t_listing = 0\n",
        "sp_avg_price = 0\n",
        "\n",
        "\n",
        "for index, row in sunset_park.iterrows():\n",
        "     sp_t_revenue = sp_t_revenue + ((row['price']) * (row['calculated_host_listings_count']))\n",
        "     sp_t_listing =  sp_t_listing + (row['calculated_host_listings_count'])\n",
        "\n",
        "sp_avg_price = sp_t_revenue/(sunset_park.calculated_host_listings_count.sum())"
      ],
      "execution_count": null,
      "outputs": []
    },
    {
      "cell_type": "code",
      "metadata": {
        "id": "hnr1_ms8CFmm",
        "colab": {
          "base_uri": "https://localhost:8080/",
          "height": 279
        },
        "outputId": "e579e3c5-0f6d-45d3-adb5-0f891fd74551"
      },
      "source": [
        "barWidth = 0.25\n",
        "\n",
        "bar_revenue = [br_t_revenue,bp_t_revenue, bens_t_revenue, sp_t_revenue]\n",
        "\n",
        "# Set position of bar on X axis\n",
        "r1 = np.arange(len(bar_revenue))\n",
        "r2 = [x + barWidth for x in r1]\n",
        "r3 = [x + barWidth for x in r2]\n",
        "\n",
        " \n",
        "# Make the plot\n",
        "plt.bar(r1, bar_revenue, color='#7f6d5f', width=barWidth, edgecolor='white', label='Total Revenue')\n",
        "plt.ylabel('Total Revenue', fontweight = 'bold')\n",
        "plt.xlabel('Neighbourhood', fontweight='bold')\n",
        "plt.xticks([r + barWidth for r in range(len(bar_revenue))], ['BR', 'BP', 'BENS', 'SP'])\n",
        "\n",
        " \n",
        "\n",
        "plt.show()"
      ],
      "execution_count": null,
      "outputs": [
        {
          "output_type": "display_data",
          "data": {
            "image/png": "[encoded data removed]",
            "text/plain": [
              "<Figure size 432x288 with 1 Axes>"
            ]
          },
          "metadata": {
            "tags": [],
            "needs_background": "light"
          }
        }
      ]
    },
    {
      "cell_type": "markdown",
      "metadata": {
        "id": "4Mo0Ogy1LKxD"
      },
      "source": [
        "Total revenue ranking did not show any relevance to event statistics."
      ]
    },
    {
      "cell_type": "code",
      "metadata": {
        "id": "xji1iH5KNC9V",
        "colab": {
          "base_uri": "https://localhost:8080/",
          "height": 279
        },
        "outputId": "0010cf29-1bc5-46aa-d64d-22bdf9debde5"
      },
      "source": [
        "\n",
        "bar_avg_price = [br_avg_price,bp_avg_price, bens_avg_price,sp_avg_price]\n",
        "\n",
        "plt.bar(r3, bar_avg_price, color='#2d7f5e', width=barWidth, edgecolor='white', label='Average Price')\n",
        "plt.ylabel('Average Price', fontweight='bold')\n",
        "plt.xlabel('Neighbourhood', fontweight='bold')\n",
        "plt.xticks([r + barWidth for r in range(len(bar_avg_price))], ['BR', 'BP', 'BENS', 'SP'])\n",
        "\n",
        "plt.show()\n"
      ],
      "execution_count": null,
      "outputs": [
        {
          "output_type": "display_data",
          "data": {
            "image/png": "[encoded data removed]",
            "text/plain": [
              "<Figure size 432x288 with 1 Axes>"
            ]
          },
          "metadata": {
            "tags": [],
            "needs_background": "light"
          }
        }
      ]
    },
    {
      "cell_type": "markdown",
      "metadata": {
        "id": "XAFAxdXYMEtT"
      },
      "source": [
        "The prices are lower for  Borough Park and Bersonhurt and near event dates their popularity increases more than Bay Ridge which indicates that customers also consider listing for cheaper locations for the events they desire to attend even if its not directly in the neighbourhood that the event takes place."
      ]
    },
    {
      "cell_type": "code",
      "metadata": {
        "id": "n4-pWun4CWD8",
        "colab": {
          "base_uri": "https://localhost:8080/",
          "height": 279
        },
        "outputId": "517ccf58-a49b-4349-9eab-17f9048e1bff"
      },
      "source": [
        "barWidth = 0.25\n",
        "\n",
        "bar_listing = [br_t_listing, bp_t_listing, bens_t_listing, sp_t_listing,]\n",
        "\n",
        "\n",
        "plt.bar(r2, bar_listing, color='#557f2d', width=barWidth, edgecolor='white', label='Total Listings')\n",
        "plt.ylabel('Total Listings', fontweight='bold')\n",
        "plt.xlabel('Neighbourhood', fontweight='bold')\n",
        "plt.xticks([r + barWidth for r in range(len(bar_revenue))], ['BR',  'BP', 'BENS', 'SP',])\n",
        " \n",
        "\n",
        "\n",
        "plt.show()"
      ],
      "execution_count": null,
      "outputs": [
        {
          "output_type": "display_data",
          "data": {
            "image/png": "[encoded data removed]",
            "text/plain": [
              "<Figure size 432x288 with 1 Axes>"
            ]
          },
          "metadata": {
            "tags": [],
            "needs_background": "light"
          }
        }
      ]
    },
    {
      "cell_type": "markdown",
      "metadata": {
        "id": "wjo-6zSSM2wb"
      },
      "source": [
        "Since there is no correlation between the rankings of total listings and increase in popularity during event, its arguable that customers that will list for Airbnb's for attending events cares more about the price of the location rather than the yearly popularity."
      ]
    }
  ]
}