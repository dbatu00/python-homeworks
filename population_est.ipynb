{
  "nbformat": 4,
  "nbformat_minor": 0,
  "metadata": {
    "colab": {
      "name": "population est.ipynb",
      "provenance": [],
      "collapsed_sections": []
    },
    "kernelspec": {
      "name": "python3",
      "display_name": "Python 3"
    }
  },
  "cells": [
    {
      "cell_type": "code",
      "metadata": {
        "id": "zLR1sleXRc4P",
        "colab": {
          "base_uri": "https://localhost:8080/",
          "height": 50
        },
        "outputId": "da23ff30-b257-4ddb-9876-0f220b8d5166"
      },
      "source": [
        "start_year=2016\n",
        "end_year= int(input(\"enter the value for the year you want to learn the population of \"))\n",
        "e= (end_year - start_year)*365*24*60*60\n",
        "num_births=e//7\n",
        "num_migration=e//13\n",
        "num_deaths=e//35\n",
        "estimated_pop= 79510000 + num_births + num_migration - num_deaths\n",
        "print(estimated_pop)"
      ],
      "execution_count": null,
      "outputs": [
        {
          "output_type": "stream",
          "text": [
            "enter the value for the year you want to learn the population of 2020\n",
            "103629841\n"
          ],
          "name": "stdout"
        }
      ]
    },
    {
      "cell_type": "code",
      "metadata": {
        "id": "JHYea9WxS58H"
      },
      "source": [
        ""
      ],
      "execution_count": null,
      "outputs": []
    }
  ]
}