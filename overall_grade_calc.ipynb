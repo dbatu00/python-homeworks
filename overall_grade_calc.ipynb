{
  "nbformat": 4,
  "nbformat_minor": 0,
  "metadata": {
    "colab": {
      "name": "overall grade calc.ipynb",
      "provenance": []
    },
    "kernelspec": {
      "name": "python3",
      "display_name": "Python 3"
    }
  },
  "cells": [
    {
      "cell_type": "code",
      "metadata": {
        "id": "H15EOcqfhJ-G"
      },
      "source": [
        "gpa=float(input(\"enter your gpa: \"))\n",
        "if gpa>=2.0:\n",
        "  print(\"congs\")\n",
        "if gpa<2.0:\n",
        "  print(\"lmao\")\n",
        "\n"
      ],
      "execution_count": null,
      "outputs": []
    },
    {
      "cell_type": "code",
      "metadata": {
        "id": "3rwdjbJEh691",
        "colab": {
          "base_uri": "https://localhost:8080/",
          "height": 118
        },
        "outputId": "83ff8205-03fa-455c-9cba-0418b809a5b3"
      },
      "source": [
        "midterms = float(input(\"enter avg of your midterms: \"))\n",
        "essay = float(input(\"enter your essay grade: \"))\n",
        "disc = float(input(\"enter your disc grade \"))\n",
        "lect= float(input(\"enter your lect grade \"))\n",
        "overall= midterms*0.4 + essay*0.3 + disc*0.2 + lect*0.1\n",
        "print(overall)\n",
        "if 86<=overall:\n",
        "  print(\"A\")\n",
        "if 74<=overall<86:\n",
        "  print(\"B\")\n",
        "if 62<=overall<74:\n",
        "  print(\"C\")\n",
        "if 54<=overall<62:\n",
        "  print(\"D\")\n",
        "if overall<54:\n",
        "  print(\"F\")\n"
      ],
      "execution_count": null,
      "outputs": [
        {
          "output_type": "stream",
          "text": [
            "enter avg of your midterms: 100\n",
            "enter your essay grade: 100\n",
            "enter your disc grade 100\n",
            "enter your lect grade 100\n",
            "100.0\n",
            "A\n"
          ],
          "name": "stdout"
        }
      ]
    },
    {
      "cell_type": "code",
      "metadata": {
        "id": "XWhjsVqei21a",
        "colab": {
          "base_uri": "https://localhost:8080/",
          "height": 34
        },
        "outputId": "a8b03845-ffd6-4e5d-979f-cc73512efa4a"
      },
      "source": [
        "year = int(input(\"enter year \"))\n",
        "if year % 4 != 0:\n",
        "  print(\"no\")\n",
        "else: \n",
        "  if year %100!:0:\n",
        "      print(\"yes\")\n",
        "  else:\n",
        "    if year %400!=0:\n",
        "      else:\n",
        "        print(\"yes\")"
      ],
      "execution_count": null,
      "outputs": [
        {
          "output_type": "stream",
          "text": [
            "enter year 2004\n"
          ],
          "name": "stdout"
        }
      ]
    },
    {
      "cell_type": "code",
      "metadata": {
        "id": "uFXhkSrzmWQs"
      },
      "source": [
        ""
      ],
      "execution_count": null,
      "outputs": []
    }
  ]
}